{
  "nbformat": 4,
  "nbformat_minor": 0,
  "metadata": {
    "colab": {
      "provenance": [],
      "authorship_tag": "ABX9TyOwUD1sY0CeIk2qFB5vsQyo",
      "include_colab_link": true
    },
    "kernelspec": {
      "name": "python3",
      "display_name": "Python 3"
    },
    "language_info": {
      "name": "python"
    }
  },
  "cells": [
    {
      "cell_type": "markdown",
      "metadata": {
        "id": "view-in-github",
        "colab_type": "text"
      },
      "source": [
        "<a href=\"https://colab.research.google.com/github/CodesbyHim/Data-Structures-in-Python/blob/main/Data_Structures.ipynb\" target=\"_parent\"><img src=\"https://colab.research.google.com/assets/colab-badge.svg\" alt=\"Open In Colab\"/></a>"
      ]
    },
    {
      "cell_type": "code",
      "source": [
        "# 1. Write a code to reverse a string.\n",
        "\n",
        "# code\n",
        "\n",
        "string=\"pwskills\"\n",
        "string[::-1]"
      ],
      "metadata": {
        "colab": {
          "base_uri": "https://localhost:8080/",
          "height": 35
        },
        "id": "55LCca_4rusX",
        "outputId": "3a0321ac-ee98-4692-9234-056c30d5b392"
      },
      "execution_count": 1,
      "outputs": [
        {
          "output_type": "execute_result",
          "data": {
            "text/plain": [
              "'sllikswp'"
            ],
            "application/vnd.google.colaboratory.intrinsic+json": {
              "type": "string"
            }
          },
          "metadata": {},
          "execution_count": 1
        }
      ]
    },
    {
      "cell_type": "code",
      "execution_count": 2,
      "metadata": {
        "colab": {
          "base_uri": "https://localhost:8080/"
        },
        "id": "pVdoi3Ufp_rv",
        "outputId": "9e59da6d-f17f-43d4-f356-3e80509632bd"
      },
      "outputs": [
        {
          "output_type": "stream",
          "name": "stdout",
          "text": [
            "Number of vowels in the string: 9\n"
          ]
        }
      ],
      "source": [
        "# 2. Write a code to count the number of vowels in a string.\n",
        "\n",
        "# code\n",
        "\n",
        "string = \"Data Science Course of PW\"\n",
        "vowels = \"aeiouAEIOU\"\n",
        "count = 0\n",
        "\n",
        "for char in string:\n",
        "    if char in vowels:\n",
        "        count += 1\n",
        "\n",
        "print(\"Number of vowels in the string:\", count)"
      ]
    },
    {
      "cell_type": "code",
      "source": [
        "# 3. Write a code to check if a given string is a palindrome or not.\n",
        "\n",
        "# code\n",
        "\n",
        "s = input(\"Enter a string: \")\n",
        "s = s.lower()\n",
        "\n",
        "if s == s[::-1]:\n",
        "    print(\"It's a palindrome!\")\n",
        "else:\n",
        "    print(\"It's not a palindrome.\")"
      ],
      "metadata": {
        "colab": {
          "base_uri": "https://localhost:8080/"
        },
        "id": "HxokrkelVFui",
        "outputId": "d01a882d-fae9-4ebe-9d2a-37fdb861d248"
      },
      "execution_count": 3,
      "outputs": [
        {
          "output_type": "stream",
          "name": "stdout",
          "text": [
            "Enter a string: HimanshuhsnamiH\n",
            "It's a palindrome!\n"
          ]
        }
      ]
    },
    {
      "cell_type": "code",
      "source": [
        "# 4. Write a code to check if two given strings are anagrams of each other.\n",
        "\n",
        "# code\n",
        "\n",
        "string1 = input(\"Enter the first string: \").lower()\n",
        "string2 = input(\"Enter the second string: \").lower()\n",
        "\n",
        "if sorted(string1.replace(\" \", \"\")) == sorted(string2.replace(\" \", \"\")):\n",
        "    print(\"The strings are anagrams of each other!\")\n",
        "else:\n",
        "    print(\"The strings are not anagrams.\")"
      ],
      "metadata": {
        "colab": {
          "base_uri": "https://localhost:8080/"
        },
        "id": "dHPYAB_qVMj7",
        "outputId": "fd7f448f-a778-40ee-d11d-7e4bf55975a4"
      },
      "execution_count": 4,
      "outputs": [
        {
          "output_type": "stream",
          "name": "stdout",
          "text": [
            "Enter the first string: Himanshu\n",
            "Enter the second string: khakre\n",
            "The strings are not anagrams.\n"
          ]
        }
      ]
    },
    {
      "cell_type": "code",
      "source": [
        "# 5. Write a code to find all occurrences of a given substring within another string.\n",
        "\n",
        "# Code\n",
        "\n",
        "main_string = input(\"Enter the main string: \")\n",
        "substring = input(\"Enter the substring to search for: \")\n",
        "\n",
        "occurrences = [i for i in range(len(main_string)) if main_string.startswith(substring, i)]\n",
        "\n",
        "if occurrences:\n",
        "    print(f\"The substring '{substring}' occurs at the following indices:\")\n",
        "    print(occurrences)\n",
        "else:\n",
        "    print(f\"The substring '{substring}' does not occur in the main string.\")"
      ],
      "metadata": {
        "id": "mPvPLeuI28uS",
        "colab": {
          "base_uri": "https://localhost:8080/"
        },
        "outputId": "fec037df-bf08-4457-d030-e100cbacd77e"
      },
      "execution_count": 5,
      "outputs": [
        {
          "output_type": "stream",
          "name": "stdout",
          "text": [
            "Enter the main string: PW provides best skill build courses. PW is providing best education through different courses.\n",
            "Enter the substring to search for: PW\n",
            "The substring 'PW' occurs at the following indices:\n",
            "[0, 38]\n"
          ]
        }
      ]
    },
    {
      "cell_type": "code",
      "source": [
        "# 6. Write a code to perform basic string compression using the counts of repeated characters.\n",
        "\n",
        "# Code\n",
        "\n",
        "s = \"aabcccddddeeeff\"\n",
        "\n",
        "compressed = \"\"\n",
        "count = 1\n",
        "\n",
        "for i in range(len(s) - 1):\n",
        "    if s[i] == s[i + 1]:\n",
        "        count += 1\n",
        "    else:\n",
        "        compressed += s[i] + str(count)\n",
        "        count = 1\n",
        "\n",
        "compressed += s[-1] + str(count)\n",
        "\n",
        "print(\"Original string:\", s)\n",
        "print(\"Compressed string:\", compressed)\n",
        "\n"
      ],
      "metadata": {
        "id": "tFh1p-WT3LtF",
        "colab": {
          "base_uri": "https://localhost:8080/"
        },
        "outputId": "c7b3bebe-1f61-429c-feb0-7334ae39a131"
      },
      "execution_count": 1,
      "outputs": [
        {
          "output_type": "stream",
          "name": "stdout",
          "text": [
            "Original string: aabcccddddeeeff\n",
            "Compressed string: a2b1c3d4e3f2\n"
          ]
        }
      ]
    },
    {
      "cell_type": "code",
      "source": [
        "# 7. Write a code to determine if a string has all unique characters.\n",
        "\n",
        "# Code\n",
        "\n",
        "string = \"himans123\"\n",
        "seen = set()\n",
        "is_unique = True\n",
        "\n",
        "for char in string:\n",
        "    if char in seen:\n",
        "        is_unique = False\n",
        "        break\n",
        "    seen.add(char)\n",
        "\n",
        "print(is_unique)"
      ],
      "metadata": {
        "id": "wMG6ti2O3OWZ",
        "colab": {
          "base_uri": "https://localhost:8080/"
        },
        "outputId": "42c52395-1eb2-4668-fae1-73087251399e"
      },
      "execution_count": 13,
      "outputs": [
        {
          "output_type": "stream",
          "name": "stdout",
          "text": [
            "True\n"
          ]
        }
      ]
    },
    {
      "cell_type": "code",
      "source": [
        "# 8. Write a code to convert a given string to uppercase or lowercase.\n",
        "\n",
        "# Code\n",
        "\n",
        "str1 = input(\"Enter a string: \")\n",
        "option = input(\"Convert to uppercase or lowercase? \")\n",
        "\n",
        "if option.lower() == 'uppercase':\n",
        "    convert = str1.upper()\n",
        "elif option.lower() == 'lowercase':\n",
        "    convert = str1.lower()\n",
        "else:\n",
        "    convert = \"Invalid option. Please choose 'uppercase' or 'lowercase'.\"\n",
        "\n",
        "print(\"Converted string:\", convert)"
      ],
      "metadata": {
        "id": "rBDaHa9U3X11",
        "colab": {
          "base_uri": "https://localhost:8080/"
        },
        "outputId": "61f6b4e2-fdf3-4374-f91a-a5aae8a8dd54"
      },
      "execution_count": 76,
      "outputs": [
        {
          "output_type": "stream",
          "name": "stdout",
          "text": [
            "Enter a string: Himanshu Khakre\n",
            "Convert to uppercase or lowercase? uppercase\n",
            "Converted string: HIMANSHU KHAKRE\n"
          ]
        }
      ]
    },
    {
      "cell_type": "code",
      "source": [
        "# 9. Write a code to count the number of words in a string.\n",
        "\n",
        "# Code\n",
        "\n",
        "sentence = \"I am data analyst.\"\n",
        "words = sentence.split()\n",
        "num_words = len(words)\n",
        "\n",
        "print(\"Number of words:\", num_words)"
      ],
      "metadata": {
        "id": "AYZn2x8K3ejw",
        "colab": {
          "base_uri": "https://localhost:8080/"
        },
        "outputId": "6fbc65de-9183-460f-fa2e-c8cbebc95af7"
      },
      "execution_count": 16,
      "outputs": [
        {
          "output_type": "stream",
          "name": "stdout",
          "text": [
            "Number of words: 4\n"
          ]
        }
      ]
    },
    {
      "cell_type": "code",
      "source": [
        "# 10. Write a code to concatenate two strings without using the + operator.\n",
        "\n",
        "# Code\n",
        "\n",
        "str1 = \"PW\"\n",
        "str2 = \" skills \"\n",
        "\n",
        "concatenated_string = \"\"\n",
        "for char in str1:\n",
        "    concatenated_string += char\n",
        "for char in str2:\n",
        "    concatenated_string += char\n",
        "\n",
        "print(concatenated_string)"
      ],
      "metadata": {
        "id": "6gBIP3Gi3nE1",
        "colab": {
          "base_uri": "https://localhost:8080/"
        },
        "outputId": "0c2545dd-b423-41eb-c912-4c915d3ec946"
      },
      "execution_count": 19,
      "outputs": [
        {
          "output_type": "stream",
          "name": "stdout",
          "text": [
            "PW skills \n"
          ]
        }
      ]
    },
    {
      "cell_type": "code",
      "source": [
        "# 11. Write a code to remove all occurrences of a specific element from a list.\n",
        "\n",
        "# Code\n",
        "\n",
        "original_list = [100,200,300,400,500,600,900,800,500]\n",
        "element_to_remove = 500\n",
        "\n",
        "while element_to_remove in original_list:\n",
        "    original_list.remove(element_to_remove)\n",
        "\n",
        "print(\"Modified list after removing all occurrences of\", element_to_remove, \":\", original_list)"
      ],
      "metadata": {
        "id": "dzFWetzJ3t5E",
        "colab": {
          "base_uri": "https://localhost:8080/"
        },
        "outputId": "999c12c9-c551-4872-8359-5f4b5ee6b558"
      },
      "execution_count": 20,
      "outputs": [
        {
          "output_type": "stream",
          "name": "stdout",
          "text": [
            "Modified list after removing all occurrences of 500 : [100, 200, 300, 400, 600, 900, 800]\n"
          ]
        }
      ]
    },
    {
      "cell_type": "code",
      "source": [
        "# 12. Implement a code to find the second largest number in a given list of integers.\n",
        "\n",
        "# Code\n",
        "\n",
        "user_input = input(\"Enter a list of numbers separated by space: \")\n",
        "my_list = [int(x) for x in user_input.split()]\n",
        "my_list.sort()\n",
        "\n",
        "if len(my_list) < 2:\n",
        "    print(\"List should contain at least two elements\")\n",
        "else:\n",
        "    print(\"Second largest number:\", my_list[-2])"
      ],
      "metadata": {
        "id": "eb70XXE7355p",
        "colab": {
          "base_uri": "https://localhost:8080/"
        },
        "outputId": "20ec0859-0451-4c0b-e057-694c35f324c5"
      },
      "execution_count": 21,
      "outputs": [
        {
          "output_type": "stream",
          "name": "stdout",
          "text": [
            "Enter a list of numbers separated by space: 55 66 43 3 232 54 32 64\n",
            "Second largest number: 66\n"
          ]
        }
      ]
    },
    {
      "cell_type": "code",
      "source": [
        "# 13. Create a code to count the occurrences of each element in a list and return a dictionary with elements keys and their counts as values.\n",
        "\n",
        "# Code\n",
        "\n",
        "my_list = [1, 1,3,4,5,3,5,7,8,4,7,5,5,3,2,7,]\n",
        "\n",
        "counts = {}\n",
        "\n",
        "for element in my_list:\n",
        "    if element in counts:\n",
        "        counts[element] += 1\n",
        "    else:\n",
        "        counts[element] = 1\n",
        "\n",
        "print(\"Element counts:\", counts)"
      ],
      "metadata": {
        "id": "Zm-uXfA04Fn_",
        "colab": {
          "base_uri": "https://localhost:8080/"
        },
        "outputId": "8ae41391-35e8-4497-b2c6-db76d771369e"
      },
      "execution_count": 23,
      "outputs": [
        {
          "output_type": "stream",
          "name": "stdout",
          "text": [
            "Element counts: {1: 2, 3: 3, 4: 2, 5: 4, 7: 3, 8: 1, 2: 1}\n"
          ]
        }
      ]
    },
    {
      "cell_type": "code",
      "source": [
        "# 14. Write a code to reverse a list in-place without using any built-in reverse functions.\n",
        "\n",
        "# Code\n",
        "\n",
        "my_list = [10,30,50,70,90]\n",
        "my_list[::-1]"
      ],
      "metadata": {
        "id": "FLP19LrO4P8E",
        "colab": {
          "base_uri": "https://localhost:8080/"
        },
        "outputId": "60afda03-a39f-42f5-dda3-7889e3eefa56"
      },
      "execution_count": 26,
      "outputs": [
        {
          "output_type": "execute_result",
          "data": {
            "text/plain": [
              "[90, 70, 50, 30, 10]"
            ]
          },
          "metadata": {},
          "execution_count": 26
        }
      ]
    },
    {
      "cell_type": "code",
      "source": [
        "# 15. Implement a code to find and remove duplicates from a list while preserving the original order of elements.\n",
        "\n",
        "# Code\n",
        "\n",
        "my_list = [33,44,6,9,8,7,6,33,4,5,4,7,8,32,53,53,9,5,4,3,2,1]\n",
        "\n",
        "unique_elements = set()\n",
        "\n",
        "result_list = []\n",
        "\n",
        "for item in my_list:\n",
        "    if item not in unique_elements:\n",
        "        result_list.append(item)\n",
        "        unique_elements.add(item)\n",
        "\n",
        "print(\"List without duplicates:\", result_list)"
      ],
      "metadata": {
        "id": "_w_Za_f44bm_",
        "colab": {
          "base_uri": "https://localhost:8080/"
        },
        "outputId": "505fe44d-e621-4f28-82f8-5a8ba5e3cb33"
      },
      "execution_count": 30,
      "outputs": [
        {
          "output_type": "stream",
          "name": "stdout",
          "text": [
            "List without duplicates: [33, 44, 6, 9, 8, 7, 4, 5, 32, 53, 3, 2, 1]\n"
          ]
        }
      ]
    },
    {
      "cell_type": "code",
      "source": [
        "# 16. Create a code to check if a given list is sorted (either in ascending or descending order) or not.\n",
        "\n",
        "# Code\n",
        "\n",
        "my_list = [1, 2, 3, 4, 5, 6, 7, 8, 9]\n",
        "\n",
        "if my_list:\n",
        "    ascending = all(my_list[i] <= my_list[i + 1] for i in range(len(my_list) - 1))\n",
        "    descending = all(my_list[i] >= my_list[i + 1] for i in range(len(my_list) - 1))\n",
        "else:\n",
        "    print(\"The list is empty.\")\n",
        "if ascending:\n",
        "    print(\"The list is sorted in ascending order.\")\n",
        "elif descending:\n",
        "    print(\"The list is sorted in descending order.\")\n",
        "else:\n",
        "    print(\"The list is not sorted.\")"
      ],
      "metadata": {
        "id": "47dUjsNR4jNL",
        "colab": {
          "base_uri": "https://localhost:8080/"
        },
        "outputId": "db06244a-13d3-4c52-97ee-2eebbdb419f6"
      },
      "execution_count": 32,
      "outputs": [
        {
          "output_type": "stream",
          "name": "stdout",
          "text": [
            "The list is sorted in ascending order.\n"
          ]
        }
      ]
    },
    {
      "cell_type": "code",
      "source": [
        "# 17. Write a code to merge two sorted lists into a single sorted list.\n",
        "\n",
        "# code\n",
        "\n",
        "list1 = [1, 3, 5, 7]\n",
        "list2 = [2, 4, 6, 8]\n",
        "merged_list = []\n",
        "i = 0\n",
        "j = 0\n",
        "while i < len(list1) and j < len(list2):\n",
        "    if list1[i] < list2[j]:\n",
        "        merged_list.append(list1[i])\n",
        "        i += 1\n",
        "    else:\n",
        "        merged_list.append(list2[j])\n",
        "        j += 1\n",
        "while i < len(list1):\n",
        "    merged_list.append(list1[i])\n",
        "    i += 1\n",
        "while j < len(list2):\n",
        "    merged_list.append(list2[j])\n",
        "    j += 1\n",
        "print(\"Merged list:\", merged_list)"
      ],
      "metadata": {
        "colab": {
          "base_uri": "https://localhost:8080/"
        },
        "id": "InE4cZ2-StIO",
        "outputId": "08a8c462-9a3b-46cf-8d41-0db069c66e82"
      },
      "execution_count": 66,
      "outputs": [
        {
          "output_type": "stream",
          "name": "stdout",
          "text": [
            "Merged list: [1, 2, 3, 4, 5, 6, 7, 8]\n"
          ]
        }
      ]
    },
    {
      "cell_type": "code",
      "source": [
        "# 18. Implement a code to find the intersection of two given lists.\n",
        "\n",
        "# Code\n",
        "\n",
        "list1 = [1,2,3,4]\n",
        "list2 = [3,4,5,6]\n",
        "intersection = []\n",
        "for item in list1:\n",
        "    if item in list2 and item not in intersection:\n",
        "        intersection.append(item)\n",
        "print(\"Intersection of the two lists:\", intersection)"
      ],
      "metadata": {
        "id": "SDzzM_954u3I",
        "colab": {
          "base_uri": "https://localhost:8080/"
        },
        "outputId": "cf13dc64-1137-42ce-ca5b-a9b7b651b48a"
      },
      "execution_count": 36,
      "outputs": [
        {
          "output_type": "stream",
          "name": "stdout",
          "text": [
            "Intersection of the two lists: [3, 4]\n"
          ]
        }
      ]
    },
    {
      "cell_type": "code",
      "source": [
        "# 19. Create a code to find the union of two lists without duplicates.\n",
        "\n",
        "# Code\n",
        "\n",
        "list1=[1,2,3,4,4,3]\n",
        "list2=[5,6,2,3,7,8]\n",
        "\n",
        "union_list=set(list1+list2)\n",
        "union_list=list(union_list)\n",
        "\n",
        "print(\"The union of two lists without duplicates\",union_list)"
      ],
      "metadata": {
        "colab": {
          "base_uri": "https://localhost:8080/"
        },
        "id": "PN-SnJzM5O3J",
        "outputId": "8a915ee0-7357-4977-ae18-49bcb555e442"
      },
      "execution_count": 38,
      "outputs": [
        {
          "output_type": "stream",
          "name": "stdout",
          "text": [
            "The union of two lists without duplicates [1, 2, 3, 4, 5, 6, 7, 8]\n"
          ]
        }
      ]
    },
    {
      "cell_type": "code",
      "source": [
        "# 20.Write a code to shuffle a given list randomly without using any built-in shuffle functions.\n",
        "\n",
        "# Code\n",
        "\n",
        "import random\n",
        "my_list = [1, 2, 3, 4, 5]\n",
        "shuffled_list = []\n",
        "while my_list:\n",
        "    index = random.randint(0, len(my_list) - 1)\n",
        "    shuffled_list.append(my_list.pop(index))\n",
        "\n",
        "print(\"Shuffled list:\", shuffled_list)"
      ],
      "metadata": {
        "colab": {
          "base_uri": "https://localhost:8080/"
        },
        "id": "x4nRLvvNXYZF",
        "outputId": "ee13da78-cce8-4a91-955f-e55bd95c8ff9"
      },
      "execution_count": 40,
      "outputs": [
        {
          "output_type": "stream",
          "name": "stdout",
          "text": [
            "Shuffled list: [3, 4, 2, 5, 1]\n"
          ]
        }
      ]
    },
    {
      "cell_type": "code",
      "source": [
        "# 21. Write a code that takes two tuples as input and returns a new tuple containing elements that are common to both input tuples.\n",
        "\n",
        "# Code\n",
        "\n",
        "tuple1 = tuple(input(\"Enter elements of the first tuple separated by spaces: \").split())\n",
        "tuple2 = tuple(input(\"Enter elements of the second tuple separated by spaces: \").split())\n",
        "\n",
        "set1 = set(tuple1)\n",
        "set2 = set(tuple2)\n",
        "\n",
        "common_elements = set1.intersection(set2)\n",
        "\n",
        "result_tuple = tuple(common_elements)\n",
        "\n",
        "print(\"Common elements:\", result_tuple)"
      ],
      "metadata": {
        "colab": {
          "base_uri": "https://localhost:8080/"
        },
        "id": "XBchhwCPaz-k",
        "outputId": "5b956012-de64-4a55-de5e-b36bb510277a"
      },
      "execution_count": 41,
      "outputs": [
        {
          "output_type": "stream",
          "name": "stdout",
          "text": [
            "Enter elements of the first tuple separated by spaces: 5 3 3 5 6 2 3 \n",
            "Enter elements of the second tuple separated by spaces: 3 5 6 7 8 8\n",
            "Common elements: ('6', '5', '3')\n"
          ]
        }
      ]
    },
    {
      "cell_type": "code",
      "source": [
        "# 22.Create a code that prompts the user to enter two sets of integers separated by commas. Then, print the intersection of these two sets.\n",
        "\n",
        "# Code\n",
        "\n",
        "set1 = set(input(\"Enter the first set of integers separated by commas: \").split(','))\n",
        "set2 = set(input(\"Enter the second set of integers separated by commas: \").split(','))\n",
        "\n",
        "print(\"Intersection of the two sets:\", set1 & set2)"
      ],
      "metadata": {
        "colab": {
          "base_uri": "https://localhost:8080/"
        },
        "id": "lntfmUCbYWLf",
        "outputId": "e03780d1-d614-4016-956f-d6c70e538169"
      },
      "execution_count": 42,
      "outputs": [
        {
          "output_type": "stream",
          "name": "stdout",
          "text": [
            "Enter the first set of integers separated by commas: 5,6,3,2,1,3,7,4\n",
            "Enter the second set of integers separated by commas: 8,4,3,6,8,9,0,3\n",
            "Intersection of the two sets: {'4', '6', '3'}\n"
          ]
        }
      ]
    },
    {
      "cell_type": "code",
      "source": [
        "# 23. Write a code to concatenate two tuples. The function should take two tuples as input and return a new tuple containing elements from both input tuples.\n",
        "\n",
        "# Code\n",
        "\n",
        "tuple1 = (1, 2, 3)\n",
        "tuple2 = (4, 5, 6)\n",
        "\n",
        "concatenated_tuple = tuple1 + tuple2\n",
        "\n",
        "print(\"Concatenated tuple:\", concatenated_tuple)"
      ],
      "metadata": {
        "colab": {
          "base_uri": "https://localhost:8080/"
        },
        "id": "sMRgYi5qYp6X",
        "outputId": "e7e3075b-3bc5-4e94-8ab5-461be631fb29"
      },
      "execution_count": 43,
      "outputs": [
        {
          "output_type": "stream",
          "name": "stdout",
          "text": [
            "Concatenated tuple: (1, 2, 3, 4, 5, 6)\n"
          ]
        }
      ]
    },
    {
      "cell_type": "code",
      "source": [
        "# 24.Develop a code that prompts the user to input two sets of strings. Then, print the elements that are present in the first set but not in the second set.\n",
        "\n",
        "# Code\n",
        "\n",
        "set1 = set(input(\"Enter the first set of strings separated by commas: \").split(','))\n",
        "set2 = set(input(\"Enter the second set of strings separated by commas: \").split(','))\n",
        "\n",
        "print(\"Elements present in the first set but not in the second set:\", set1 - set2)"
      ],
      "metadata": {
        "colab": {
          "base_uri": "https://localhost:8080/"
        },
        "id": "8ZiuxYhsYsoY",
        "outputId": "1f4d157c-de94-4aef-8e8a-be71fc20f249"
      },
      "execution_count": 45,
      "outputs": [
        {
          "output_type": "stream",
          "name": "stdout",
          "text": [
            "Enter the first set of strings separated by commas: cat,dog,elephant,lion,tiger\n",
            "Enter the second set of strings separated by commas: dog,lion,mouse,fish,cat\n",
            "Elements present in the first set but not in the second set: {'tiger', 'elephant'}\n"
          ]
        }
      ]
    },
    {
      "cell_type": "code",
      "source": [
        "# 25.Create a code that takes a tuple and two integers as input. The fuction should return a new tuple containing elements from the original tuple within the specified range of indices.\n",
        "\n",
        "# Code\n",
        "\n",
        "input_tuple = tuple(input(\"Enter elements of the tuple separated by spaces: \").split())\n",
        "\n",
        "start_index = int(input(\"Enter the start index: \"))\n",
        "end_index = int(input(\"Enter the end index: \"))\n",
        "\n",
        "if start_index < 0:\n",
        "    start_index = 0\n",
        "\n",
        "if end_index > len(input_tuple) - 1:\n",
        "    end_index = len(input_tuple) - 1\n",
        "\n",
        "result_tuple = input_tuple[start_index:end_index+1]\n",
        "\n",
        "print(\"Resulting tuple:\", result_tuple)"
      ],
      "metadata": {
        "colab": {
          "base_uri": "https://localhost:8080/"
        },
        "id": "xydX3gNcbKTL",
        "outputId": "9c5d6a82-65ad-468f-93e7-daadf93642c8"
      },
      "execution_count": 46,
      "outputs": [
        {
          "output_type": "stream",
          "name": "stdout",
          "text": [
            "Enter elements of the tuple separated by spaces: 55 66 33 66 77 22 33 44 77\n",
            "Enter the start index: 4\n",
            "Enter the end index: 7\n",
            "Resulting tuple: ('77', '22', '33', '44')\n"
          ]
        }
      ]
    },
    {
      "cell_type": "code",
      "source": [
        "# 26. Write a code that prompts the user to input two sets of characters. Then, print the union of these two sets.\n",
        "\n",
        "# Code\n",
        "\n",
        "set1_input = input(\"Enter the first set of characters separated by space: \")\n",
        "set2_input = input(\"Enter the second set of characters separated by space: \")\n",
        "set1 = set(set1_input.split(' '))\n",
        "set2 = set(set2_input.split(' '))\n",
        "\n",
        "union = set1.union(set2)\n",
        "\n",
        "print(\"Union of the two sets:\", union)"
      ],
      "metadata": {
        "colab": {
          "base_uri": "https://localhost:8080/"
        },
        "id": "PAF3CeOtbIyu",
        "outputId": "bbff5d4a-0d77-47c6-8cd0-fb14b1b78b80"
      },
      "execution_count": 47,
      "outputs": [
        {
          "output_type": "stream",
          "name": "stdout",
          "text": [
            "Enter the first set of characters separated by space: h i man shu\n",
            "Enter the second set of characters separated by space: man shu kha k re\n",
            "Union of the two sets: {'i', 'man', 're', 'h', 'kha', 'k', 'shu'}\n"
          ]
        }
      ]
    },
    {
      "cell_type": "code",
      "source": [
        "# 27. Develop a code that takes a tuple of integers as input. The function should return the maximum and minimum values from the tuple using tuple unpacking.\n",
        "\n",
        "# Code\n",
        "\n",
        "tuple_input = input(\"Enter a tuple of integers separated by space: \")\n",
        "\n",
        "input_tuple = tuple(int(x) for x in tuple_input.split(' '))\n",
        "\n",
        "max_val = max(input_tuple)\n",
        "min_val = min(input_tuple)\n",
        "\n",
        "print(\"Maximum value:\", max_val)\n",
        "print(\"Minimum value:\", min_val)"
      ],
      "metadata": {
        "colab": {
          "base_uri": "https://localhost:8080/"
        },
        "id": "3jGG75WfdlKg",
        "outputId": "53b86a0a-5c92-41e3-9102-0417b7218476"
      },
      "execution_count": 48,
      "outputs": [
        {
          "output_type": "stream",
          "name": "stdout",
          "text": [
            "Enter a tuple of integers separated by space: 5 33 6 77 8 43 4 77 44 345\n",
            "Maximum value: 345\n",
            "Minimum value: 4\n"
          ]
        }
      ]
    },
    {
      "cell_type": "code",
      "source": [
        "# 28. Create a code that defines two sets of integers. Then, print the union, intersection, and difference of these two sets.\n",
        "\n",
        "# Code\n",
        "\n",
        "set1 = {1, 2, 3, 4, 5}\n",
        "set2 = {4, 5, 6, 7, 8}\n",
        "\n",
        "print(\"Union:\", set1.union(set2))\n",
        "\n",
        "print(\"Intersection:\", set1.intersection(set2))\n",
        "\n",
        "print(\"Difference (set1 - set2):\", set1.difference(set2))\n",
        "print(\"Difference (set2 - set1):\", set2.difference(set1))\n"
      ],
      "metadata": {
        "colab": {
          "base_uri": "https://localhost:8080/"
        },
        "id": "_K7k5cUYccIG",
        "outputId": "98467101-f51e-4d16-cf6c-4d79d011971e"
      },
      "execution_count": 50,
      "outputs": [
        {
          "output_type": "stream",
          "name": "stdout",
          "text": [
            "Union: {1, 2, 3, 4, 5, 6, 7, 8}\n",
            "Intersection: {4, 5}\n",
            "Difference (set1 - set2): {1, 2, 3}\n",
            "Difference (set2 - set1): {8, 6, 7}\n"
          ]
        }
      ]
    },
    {
      "cell_type": "code",
      "source": [
        "# 29. Write a code that takes a tuple and an element as input. The function should return the count of occurrences of the given element in the tuple.\n",
        "\n",
        "# Code\n",
        "\n",
        "input_tuple = tuple(input(\"Enter elements of the tuple separated by spaces: \").split())\n",
        "\n",
        "element = input(\"Enter the element to count: \")\n",
        "\n",
        "count = 0\n",
        "for item in input_tuple:\n",
        "    if item == element:\n",
        "        count += 1\n",
        "\n",
        "print(\"Occurrences of\", element, \"in the tuple:\", count)"
      ],
      "metadata": {
        "colab": {
          "base_uri": "https://localhost:8080/"
        },
        "id": "fKpnn8xpfNUN",
        "outputId": "2ba86803-c723-4946-cd10-fee3f27f0d14"
      },
      "execution_count": 54,
      "outputs": [
        {
          "output_type": "stream",
          "name": "stdout",
          "text": [
            "Enter elements of the tuple separated by spaces: 5 6 3 4 2 4 5 6 7 8\n",
            "Enter the element to count: 4\n",
            "Occurrences of 4 in the tuple: 2\n"
          ]
        }
      ]
    },
    {
      "cell_type": "code",
      "source": [
        "# 30. Develop a code that prompts the user to input two sets of strings. Then, print the symmetric difference of these two sets.\n",
        "\n",
        "# Code\n",
        "\n",
        "set1_input = input(\"Enter the first set of strings (separated by commas): \")\n",
        "set2_input = input(\"Enter the second set of strings (separated by commas): \")\n",
        "\n",
        "set1 = set(set1_input.split(\",\"))\n",
        "set2 = set(set2_input.split(\",\"))\n",
        "\n",
        "symmetric_difference = set1.symmetric_difference(set2)\n",
        "print(\"Symmetric Difference:\", symmetric_difference)\n"
      ],
      "metadata": {
        "colab": {
          "base_uri": "https://localhost:8080/"
        },
        "id": "Ffd919KAel6R",
        "outputId": "10be6830-fe45-41ad-a347-39adb60913f2"
      },
      "execution_count": 55,
      "outputs": [
        {
          "output_type": "stream",
          "name": "stdout",
          "text": [
            "Enter the first set of strings (separated by commas): apple,ball,cat,dog,elephant,fish\n",
            "Enter the second set of strings (separated by commas): cat,ball,fish,zebra,lion\n",
            "Symmetric Difference: {'lion', 'apple', 'elephant', 'dog', 'zebra'}\n"
          ]
        }
      ]
    },
    {
      "cell_type": "code",
      "source": [
        "# 31. Write a code that takes a list of words as input and returns a dictionary where the keys are unique words and the values are the frequencies of those words in the input list.\n",
        "\n",
        "# Code\n",
        "\n",
        "word_list = input(\"Enter a list of words (separated by spaces): \").split()\n",
        "frequency_dict = {}\n",
        "for word in word_list:\n",
        "    word = word.lower()  # Convert to lowercase to ignore case differences\n",
        "    if word in frequency_dict:\n",
        "        frequency_dict[word] += 1\n",
        "    else:\n",
        "        frequency_dict[word] = 1\n",
        "print(\"Word Frequencies:\", frequency_dict)\n"
      ],
      "metadata": {
        "colab": {
          "base_uri": "https://localhost:8080/"
        },
        "id": "su9vJGYygfxW",
        "outputId": "b2e74523-224a-4d25-86e7-79d9e031f479"
      },
      "execution_count": 56,
      "outputs": [
        {
          "output_type": "stream",
          "name": "stdout",
          "text": [
            "Enter a list of words (separated by spaces): apple mango grapes apple mango banana apple \n",
            "Word Frequencies: {'apple': 3, 'mango': 2, 'grapes': 1, 'banana': 1}\n"
          ]
        }
      ]
    },
    {
      "cell_type": "code",
      "source": [
        "# 33. Write a code to access a value in a nested dictionary. The function should take the dictionary and a list of keys as input, and return the corresponding value. If any of the keys do not exist in the dictionary, the function should return None.\n",
        "\n",
        "# Code\n",
        "\n",
        "nested_dict = {'a': {'b': {'c': 5}}}\n",
        "\n",
        "keys = ['a', 'b', 'c']\n",
        "\n",
        "current_dict = nested_dict\n",
        "for key in keys:\n",
        "    if key in current_dict:\n",
        "        current_dict = current_dict[key]\n",
        "    else:\n",
        "        print(\"None\")\n",
        "        break\n",
        "else:\n",
        "    print(\"Value:\", current_dict)\n"
      ],
      "metadata": {
        "colab": {
          "base_uri": "https://localhost:8080/"
        },
        "id": "B__HCWXHh-aI",
        "outputId": "700400fb-98ce-4a55-92f3-ce6a2a2938d7"
      },
      "execution_count": 59,
      "outputs": [
        {
          "output_type": "stream",
          "name": "stdout",
          "text": [
            "Value: 5\n"
          ]
        }
      ]
    },
    {
      "cell_type": "code",
      "source": [
        "# 34. Write a code that takes a dictionary as input and returns a sorted version of it based on the values. You can choose whether to sort in ascending or descending order.\n",
        "\n",
        "# Code\n",
        "\n",
        "input_dict = eval(input(\"Enter a dictionary (in the format {'key1': value1, 'key2': value2}): \"))\n",
        "\n",
        "sort_order = input(\"Enter 'asc' for ascending order or 'desc' for descending order: \")\n",
        "\n",
        "sorted_dict = dict(sorted(input_dict.items(), key=lambda item: item[1], reverse=(sort_order.lower() == 'desc')))\n",
        "\n",
        "if sort_order.lower() == 'asc':\n",
        "    print(\"Sorted dictionary based on values in ascending order:\")\n",
        "elif sort_order.lower() == 'desc':\n",
        "    print(\"Sorted dictionary based on values in descending order:\")\n",
        "print(sorted_dict)"
      ],
      "metadata": {
        "id": "FaU8neJ4kUpJ",
        "colab": {
          "base_uri": "https://localhost:8080/"
        },
        "outputId": "e3ddd396-ef55-4f76-c279-e33ce9ecc012"
      },
      "execution_count": 61,
      "outputs": [
        {
          "output_type": "stream",
          "name": "stdout",
          "text": [
            "Enter a dictionary (in the format {'key1': value1, 'key2': value2}): {\"orange\": 5, \"apple\": 3, \"grape\": 2, \"banana\": 1}\n",
            "Enter 'asc' for ascending order or 'desc' for descending order: asc\n",
            "Sorted dictionary based on values in ascending order:\n",
            "{'banana': 1, 'grape': 2, 'apple': 3, 'orange': 5}\n"
          ]
        }
      ]
    },
    {
      "cell_type": "code",
      "source": [
        "# 35. Write a code that inverts a dictionary, swapping keys and values. Ensure that the inverted dictionary correctly handles cases where multiple keys have the same value by storing the keys as a list in the inverted dictionary.\n",
        "\n",
        "# Code\n",
        "\n",
        "input_dict = {'mango': 1, 'banana': 2, 'orange': 1, 'grape': 2}\n",
        "\n",
        "inverted_dict = {}\n",
        "for key, value in input_dict.items():\n",
        "    if value in inverted_dict:\n",
        "        inverted_dict[value].append(key)\n",
        "    else:\n",
        "        inverted_dict[value] = [key]\n",
        "\n",
        "print(\"Inverted dictionary:\")\n",
        "print(inverted_dict)"
      ],
      "metadata": {
        "colab": {
          "base_uri": "https://localhost:8080/"
        },
        "id": "SbDD6fof6dZB",
        "outputId": "3c004103-52f8-4578-f2ec-e790157c9b83"
      },
      "execution_count": 65,
      "outputs": [
        {
          "output_type": "stream",
          "name": "stdout",
          "text": [
            "Inverted dictionary:\n",
            "{1: ['mango', 'orange'], 2: ['banana', 'grape']}\n"
          ]
        }
      ]
    }
  ]
}